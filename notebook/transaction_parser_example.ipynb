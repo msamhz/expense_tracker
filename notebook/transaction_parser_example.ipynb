{
  "cells": [
    {
      "cell_type": "markdown",
      "metadata": {},
      "source": [
        "# Transaction Parser Example\n",
        "\n",
        "This notebook demonstrates how to use the `TransactionParser` class to parse bank statements from PDF files.\n"
      ]
    },
    {
      "cell_type": "code",
      "execution_count": 1,
      "metadata": {},
      "outputs": [],
      "source": [
        "import sys\n",
        "sys.path.append('..')\n",
        "\n",
        "from src.utils.transaction_parser import TransactionParser\n"
      ]
    },
    {
      "cell_type": "markdown",
      "metadata": {},
      "source": [
        "## Basic Usage\n",
        "\n",
        "Create a parser instance and process a PDF file:\n"
      ]
    },
    {
      "cell_type": "code",
      "execution_count": 7,
      "metadata": {},
      "outputs": [
        {
          "name": "stdout",
          "output_type": "stream",
          "text": [
            "Found 8 transactions\n",
            "\n"
          ]
        },
        {
          "data": {
            "text/html": [
              "<div>\n",
              "<style scoped>\n",
              "    .dataframe tbody tr th:only-of-type {\n",
              "        vertical-align: middle;\n",
              "    }\n",
              "\n",
              "    .dataframe tbody tr th {\n",
              "        vertical-align: top;\n",
              "    }\n",
              "\n",
              "    .dataframe thead th {\n",
              "        text-align: right;\n",
              "    }\n",
              "</style>\n",
              "<table border=\"1\" class=\"dataframe\">\n",
              "  <thead>\n",
              "    <tr style=\"text-align: right;\">\n",
              "      <th></th>\n",
              "      <th>transaction_date</th>\n",
              "      <th>description</th>\n",
              "      <th>amount_sgd</th>\n",
              "    </tr>\n",
              "  </thead>\n",
              "  <tbody>\n",
              "    <tr>\n",
              "      <th>0</th>\n",
              "      <td>2025-08-12</td>\n",
              "      <td>MALAY AIR2322479723900 PTB 2 SINGAPO SG</td>\n",
              "      <td>14.00</td>\n",
              "    </tr>\n",
              "    <tr>\n",
              "      <th>1</th>\n",
              "      <td>2025-08-12</td>\n",
              "      <td>MALAY AIR2322479723901 PTB 2 SINGAPO SG</td>\n",
              "      <td>248.80</td>\n",
              "    </tr>\n",
              "    <tr>\n",
              "      <th>2</th>\n",
              "      <td>2025-08-12</td>\n",
              "      <td>MALAY AIR2322479723902 PTB 2 SINGAPO SG</td>\n",
              "      <td>248.80</td>\n",
              "    </tr>\n",
              "    <tr>\n",
              "      <th>3</th>\n",
              "      <td>2025-08-15</td>\n",
              "      <td>CARDUP-PRUDENTIAL ASSU SINGAPORE SG</td>\n",
              "      <td>125.72</td>\n",
              "    </tr>\n",
              "    <tr>\n",
              "      <th>4</th>\n",
              "      <td>2025-08-25</td>\n",
              "      <td>PRUDENTIAL 733 SINGAPORE SG</td>\n",
              "      <td>17.77</td>\n",
              "    </tr>\n",
              "  </tbody>\n",
              "</table>\n",
              "</div>"
            ],
            "text/plain": [
              "  transaction_date                              description  amount_sgd\n",
              "0       2025-08-12  MALAY AIR2322479723900 PTB 2 SINGAPO SG       14.00\n",
              "1       2025-08-12  MALAY AIR2322479723901 PTB 2 SINGAPO SG      248.80\n",
              "2       2025-08-12  MALAY AIR2322479723902 PTB 2 SINGAPO SG      248.80\n",
              "3       2025-08-15      CARDUP-PRUDENTIAL ASSU SINGAPORE SG      125.72\n",
              "4       2025-08-25              PRUDENTIAL 733 SINGAPORE SG       17.77"
            ]
          },
          "metadata": {},
          "output_type": "display_data"
        }
      ],
      "source": [
        "# Initialize parser with default directories\n",
        "parser = TransactionParser(input_dir=\"../data/raw\", output_dir=\"../data/processed\")\n",
        "\n",
        "# Process a specific file\n",
        "df = parser.process_file('dbs_unbilled.pdf')\n",
        "\n",
        "# Display the results\n",
        "print(f\"Found {len(df)} transactions\\n\")\n",
        "display(df.head())\n"
      ]
    },
    {
      "cell_type": "markdown",
      "metadata": {},
      "source": [
        "## Custom Directory Paths\n",
        "\n",
        "You can specify custom input and output directories:\n"
      ]
    },
    {
      "cell_type": "code",
      "execution_count": 13,
      "metadata": {},
      "outputs": [],
      "source": [
        "# Initialize parser with custom directories\n",
        "custom_parser = TransactionParser(input_dir=\"../data/raw\", output_dir=\"../data/processed\")\n",
        "\n",
        "\n",
        "# Process without saving CSV\n",
        "df = custom_parser.process_file('dbs_prev.pdf', save_csv=False)\n"
      ]
    },
    {
      "cell_type": "code",
      "execution_count": 14,
      "metadata": {},
      "outputs": [
        {
          "data": {
            "text/html": [
              "<div>\n",
              "<style scoped>\n",
              "    .dataframe tbody tr th:only-of-type {\n",
              "        vertical-align: middle;\n",
              "    }\n",
              "\n",
              "    .dataframe tbody tr th {\n",
              "        vertical-align: top;\n",
              "    }\n",
              "\n",
              "    .dataframe thead th {\n",
              "        text-align: right;\n",
              "    }\n",
              "</style>\n",
              "<table border=\"1\" class=\"dataframe\">\n",
              "  <thead>\n",
              "    <tr style=\"text-align: right;\">\n",
              "      <th></th>\n",
              "      <th>transaction_date</th>\n",
              "      <th>description</th>\n",
              "      <th>amount_sgd</th>\n",
              "    </tr>\n",
              "  </thead>\n",
              "  <tbody>\n",
              "    <tr>\n",
              "      <th>0</th>\n",
              "      <td>2025-06-17</td>\n",
              "      <td>CARDUP-PRUDENTIAL ASSU SINGAPORE SG</td>\n",
              "      <td>125.72</td>\n",
              "    </tr>\n",
              "    <tr>\n",
              "      <th>1</th>\n",
              "      <td>2025-06-23</td>\n",
              "      <td>PASIR RIS-PUNGGOL TOWN SINGAPORE SG</td>\n",
              "      <td>69.40</td>\n",
              "    </tr>\n",
              "    <tr>\n",
              "      <th>2</th>\n",
              "      <td>2025-06-24</td>\n",
              "      <td>PRUDENTIAL 73373305 SINGAPORE SG</td>\n",
              "      <td>17.77</td>\n",
              "    </tr>\n",
              "    <tr>\n",
              "      <th>3</th>\n",
              "      <td>2025-06-27</td>\n",
              "      <td>CARDUP-PRUDENTIAL ASSU SINGAPORE SG</td>\n",
              "      <td>69.39</td>\n",
              "    </tr>\n",
              "    <tr>\n",
              "      <th>4</th>\n",
              "      <td>2025-06-27</td>\n",
              "      <td>CARDUP-PRUDENTIAL ASSU SINGAPORE SG</td>\n",
              "      <td>305.55</td>\n",
              "    </tr>\n",
              "    <tr>\n",
              "      <th>5</th>\n",
              "      <td>2025-06-30</td>\n",
              "      <td>PRUDENTIAL 73373207 SINGAPORE SG</td>\n",
              "      <td>28.82</td>\n",
              "    </tr>\n",
              "    <tr>\n",
              "      <th>6</th>\n",
              "      <td>2025-07-02</td>\n",
              "      <td>OPENAI *CHATGPT SUBSCR OPENAI.COM CA USD21.80</td>\n",
              "      <td>28.70</td>\n",
              "    </tr>\n",
              "    <tr>\n",
              "      <th>7</th>\n",
              "      <td>2025-07-12</td>\n",
              "      <td>02COURTS - MEGASTORE 12</td>\n",
              "      <td>163.53</td>\n",
              "    </tr>\n",
              "    <tr>\n",
              "      <th>8</th>\n",
              "      <td>2025-07-12</td>\n",
              "      <td>01CHALLENGER SUNTEC CITY 24</td>\n",
              "      <td>82.87</td>\n",
              "    </tr>\n",
              "  </tbody>\n",
              "</table>\n",
              "</div>"
            ],
            "text/plain": [
              "  transaction_date                                    description  amount_sgd\n",
              "0       2025-06-17            CARDUP-PRUDENTIAL ASSU SINGAPORE SG      125.72\n",
              "1       2025-06-23            PASIR RIS-PUNGGOL TOWN SINGAPORE SG       69.40\n",
              "2       2025-06-24               PRUDENTIAL 73373305 SINGAPORE SG       17.77\n",
              "3       2025-06-27            CARDUP-PRUDENTIAL ASSU SINGAPORE SG       69.39\n",
              "4       2025-06-27            CARDUP-PRUDENTIAL ASSU SINGAPORE SG      305.55\n",
              "5       2025-06-30               PRUDENTIAL 73373207 SINGAPORE SG       28.82\n",
              "6       2025-07-02  OPENAI *CHATGPT SUBSCR OPENAI.COM CA USD21.80       28.70\n",
              "7       2025-07-12                        02COURTS - MEGASTORE 12      163.53\n",
              "8       2025-07-12                    01CHALLENGER SUNTEC CITY 24       82.87"
            ]
          },
          "execution_count": 14,
          "metadata": {},
          "output_type": "execute_result"
        }
      ],
      "source": [
        "df"
      ]
    },
    {
      "cell_type": "code",
      "execution_count": 15,
      "metadata": {},
      "outputs": [],
      "source": [
        "# Initialize parser with custom directories\n",
        "custom_parser = TransactionParser(input_dir=\"../data/raw\", output_dir=\"../data/processed\")\n",
        "\n",
        "\n",
        "# Process without saving CSV\n",
        "df = custom_parser.process_file('dbs_current.pdf', save_csv=False)\n"
      ]
    },
    {
      "cell_type": "code",
      "execution_count": 16,
      "metadata": {},
      "outputs": [
        {
          "data": {
            "text/html": [
              "<div>\n",
              "<style scoped>\n",
              "    .dataframe tbody tr th:only-of-type {\n",
              "        vertical-align: middle;\n",
              "    }\n",
              "\n",
              "    .dataframe tbody tr th {\n",
              "        vertical-align: top;\n",
              "    }\n",
              "\n",
              "    .dataframe thead th {\n",
              "        text-align: right;\n",
              "    }\n",
              "</style>\n",
              "<table border=\"1\" class=\"dataframe\">\n",
              "  <thead>\n",
              "    <tr style=\"text-align: right;\">\n",
              "      <th></th>\n",
              "      <th>transaction_date</th>\n",
              "      <th>description</th>\n",
              "      <th>amount_sgd</th>\n",
              "    </tr>\n",
              "  </thead>\n",
              "  <tbody>\n",
              "    <tr>\n",
              "      <th>0</th>\n",
              "      <td>2025-07-15</td>\n",
              "      <td>CARDUP-PRUDENTIAL ASSU SINGAPORE SG</td>\n",
              "      <td>125.72</td>\n",
              "    </tr>\n",
              "    <tr>\n",
              "      <th>1</th>\n",
              "      <td>2025-07-23</td>\n",
              "      <td>PASIR RIS-PUNGGOL TOWN SINGAPORE SG</td>\n",
              "      <td>34.70</td>\n",
              "    </tr>\n",
              "    <tr>\n",
              "      <th>2</th>\n",
              "      <td>2025-07-24</td>\n",
              "      <td>PRUDENTIAL 73373305 SINGAPORE SG</td>\n",
              "      <td>17.77</td>\n",
              "    </tr>\n",
              "    <tr>\n",
              "      <th>3</th>\n",
              "      <td>2025-07-29</td>\n",
              "      <td>CARDUP-PRUDENTIAL ASSU SINGAPORE SG</td>\n",
              "      <td>69.39</td>\n",
              "    </tr>\n",
              "    <tr>\n",
              "      <th>4</th>\n",
              "      <td>2025-07-29</td>\n",
              "      <td>CARDUP-PRUDENTIAL ASSU SINGAPORE SG</td>\n",
              "      <td>305.55</td>\n",
              "    </tr>\n",
              "    <tr>\n",
              "      <th>5</th>\n",
              "      <td>2025-07-30</td>\n",
              "      <td>PRUDENTIAL 73373207 SINGAPORE SG</td>\n",
              "      <td>28.82</td>\n",
              "    </tr>\n",
              "    <tr>\n",
              "      <th>6</th>\n",
              "      <td>2025-08-02</td>\n",
              "      <td>OPENAI *CHATGPT SUBSCR OPENAI.COM CA USD21.80</td>\n",
              "      <td>29.27</td>\n",
              "    </tr>\n",
              "    <tr>\n",
              "      <th>7</th>\n",
              "      <td>2025-08-12</td>\n",
              "      <td>02COURTS - MEGASTORE 12</td>\n",
              "      <td>163.53</td>\n",
              "    </tr>\n",
              "    <tr>\n",
              "      <th>8</th>\n",
              "      <td>2025-08-12</td>\n",
              "      <td>01CHALLENGER SUNTEC CITY 24</td>\n",
              "      <td>82.87</td>\n",
              "    </tr>\n",
              "  </tbody>\n",
              "</table>\n",
              "</div>"
            ],
            "text/plain": [
              "  transaction_date                                    description  amount_sgd\n",
              "0       2025-07-15            CARDUP-PRUDENTIAL ASSU SINGAPORE SG      125.72\n",
              "1       2025-07-23            PASIR RIS-PUNGGOL TOWN SINGAPORE SG       34.70\n",
              "2       2025-07-24               PRUDENTIAL 73373305 SINGAPORE SG       17.77\n",
              "3       2025-07-29            CARDUP-PRUDENTIAL ASSU SINGAPORE SG       69.39\n",
              "4       2025-07-29            CARDUP-PRUDENTIAL ASSU SINGAPORE SG      305.55\n",
              "5       2025-07-30               PRUDENTIAL 73373207 SINGAPORE SG       28.82\n",
              "6       2025-08-02  OPENAI *CHATGPT SUBSCR OPENAI.COM CA USD21.80       29.27\n",
              "7       2025-08-12                        02COURTS - MEGASTORE 12      163.53\n",
              "8       2025-08-12                    01CHALLENGER SUNTEC CITY 24       82.87"
            ]
          },
          "execution_count": 16,
          "metadata": {},
          "output_type": "execute_result"
        }
      ],
      "source": [
        "df"
      ]
    },
    {
      "cell_type": "code",
      "execution_count": 19,
      "metadata": {},
      "outputs": [],
      "source": [
        "\n",
        "import pdfplumber\n",
        "with pdfplumber.open('../data/raw/dbs_unbilled.pdf') as pdf:\n",
        "    text_content = []\n",
        "    for page in pdf.pages:\n",
        "        text = page.extract_text() or \"\"\n",
        "        # Normalize whitespace for consistent parsing\n",
        "        lines = [ln.strip() for ln in text.splitlines() if ln.strip()]\n",
        "        text_content.extend(lines)\n"
      ]
    },
    {
      "cell_type": "code",
      "execution_count": 20,
      "metadata": {},
      "outputs": [
        {
          "data": {
            "text/plain": [
              "['This is a print preview page',\n",
              " 'Close this window.',\n",
              " 'View Transaction History',\n",
              " '30 Aug 2025 07:10 AM Singapore',\n",
              " 'Modify Search',\n",
              " 'DBS Altitude Visa Signature Card4119-1100-9323-8894',\n",
              " 'Credit Limit Available Limit DBS Points',\n",
              " 'S$19,100.00 S$16,351.00 19950',\n",
              " 'Unbilled Transactionsas per statement printed on 30 Aug 2025',\n",
              " 'Transaction Date Description Amount',\n",
              " '24 Aug 2025 PAYMENT - DBS INTERNET/WIRELESS S$857.62 cr',\n",
              " 'Sub-Total -S$ 857.62',\n",
              " 'Transaction Date Description Amount',\n",
              " 'DBS Altitude Visa Signature Card4119-1100-9323-8894',\n",
              " '12 Aug 2025 MALAY AIR2322479723900 PTB 2 SINGAPO SG S$14.00',\n",
              " '12 Aug 2025 MALAY AIR2322479723901 PTB 2 SINGAPO SG S$248.80',\n",
              " '12 Aug 2025 MALAY AIR2322479723902 PTB 2 SINGAPO SG S$248.80',\n",
              " '15 Aug 2025 CARDUP-PRUDENTIAL ASSU SINGAPORE SG S$125.72',\n",
              " '25 Aug 2025 PRUDENTIAL 733 SINGAPORE SG S$17.77',\n",
              " '25 Aug 2025 PUNGGOL TOWN COUNCIL SINGAPORE SG S$69.40',\n",
              " '28 Aug 2025 CARDUP-PRUDENTIAL ASSU SINGAPORE SG S$305.55',\n",
              " '28 Aug 2025 CARDUP-PRUDENTIAL ASSU SINGAPORE SG S$69.39',\n",
              " 'Sub-Total S$1,099.43',\n",
              " 'Note',\n",
              " 'Payment information is only available to the Principal Cardholder.',\n",
              " 'If you are paying for more than 1 Credit/Charge Card Account, please pay to each of them separately. Payment to each Card Account will be applied to both',\n",
              " 'Principal and Supplementary transactions of that account.']"
            ]
          },
          "execution_count": 20,
          "metadata": {},
          "output_type": "execute_result"
        }
      ],
      "source": [
        "text_content"
      ]
    },
    {
      "cell_type": "markdown",
      "metadata": {},
      "source": [
        "## Direct PDF Processing\n",
        "\n",
        "You can also process a PDF file directly by providing its full path:\n"
      ]
    },
    {
      "cell_type": "code",
      "execution_count": null,
      "metadata": {},
      "outputs": [],
      "source": [
        "# Process a PDF file using its full path\n",
        "df = parser.parse_pdf('/full/path/to/statement.pdf')\n"
      ]
    }
  ],
  "metadata": {
    "kernelspec": {
      "display_name": "env",
      "language": "python",
      "name": "python3"
    },
    "language_info": {
      "codemirror_mode": {
        "name": "ipython",
        "version": 3
      },
      "file_extension": ".py",
      "mimetype": "text/x-python",
      "name": "python",
      "nbconvert_exporter": "python",
      "pygments_lexer": "ipython3",
      "version": "3.10.11"
    }
  },
  "nbformat": 4,
  "nbformat_minor": 2
}
